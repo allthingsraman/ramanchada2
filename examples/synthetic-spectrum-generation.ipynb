{
 "cells": [
  {
   "cell_type": "markdown",
   "id": "06e5a61f-2bcb-4f7e-ae93-927c85f4e6b7",
   "metadata": {},
   "source": [
    "# Generate synthetic spectra using ramanchada2"
   ]
  },
  {
   "cell_type": "code",
   "execution_count": null,
   "id": "0802b101-9ac3-4462-95b1-eb5b40cd563e",
   "metadata": {},
   "outputs": [],
   "source": [
    "import ramanchada2 as rc2\n",
    "import ipywidgets as ipyw\n",
    "import numpy as np\n",
    "import matplotlib.pyplot as plt\n",
    "\n",
    "spe_tmp = {'orig': rc2.spectrum.from_delta_lines(deltas={500:1e3, 900:1.5e3})}\n",
    "def convolve(lineshape, sigma):\n",
    "    spe_tmp['convolved'] = spe_tmp['orig'].convolve(lineshape=lineshape, sigma=sigma)\n",
    "    spe_tmp['convolved'].plot()\n",
    "def add_baseline(n_freq, amplitude, pedestal, rng_seed, a1, a2):\n",
    "    spe_tmp['baseline'] = spe_tmp['convolved'].add_baseline(n_freq=n_freq, amplitude=amplitude, pedestal=pedestal, rng_seed=rng_seed, func=lambda x: x*a1 + x**2*a2)\n",
    "    spe_tmp['baseline'].plot()\n",
    "def add_noise(scale, rng_seed):\n",
    "    spe_tmp['noise'] = spe_tmp['baseline'].add_poisson_noise(scale=scale, rng_seed=rng_seed)\n",
    "    spe_tmp['noise'].plot()"
   ]
  },
  {
   "cell_type": "markdown",
   "id": "a8362c6e-8650-495c-abbc-5d1c6b050ac1",
   "metadata": {},
   "source": [
    "## end-to-end example"
   ]
  },
  {
   "cell_type": "code",
   "execution_count": null,
   "id": "db41058b-aab7-4238-82a7-247975885bbf",
   "metadata": {},
   "outputs": [],
   "source": [
    "for sigma in [10, 20, 30]:\n",
    "    spe = rc2.spectrum.from_delta_lines(deltas={500:1e3, 700:1.5e3})\n",
    "    spe = spe.convolve(lineshape='voigt', sigma=sigma, gamma=3)\n",
    "    spe = spe.add_baseline(n_freq=50, amplitude=10, pedestal=10, func=lambda x: x*.006 + x**2*.00001)\n",
    "    spe = spe.add_poisson_noise(scale=.01)\n",
    "    spe.plot()"
   ]
  },
  {
   "cell_type": "markdown",
   "id": "a8182afd-f8f3-4687-9f34-0dfbed53ad87",
   "metadata": {},
   "source": [
    "## documentation of the methods"
   ]
  },
  {
   "cell_type": "code",
   "execution_count": null,
   "id": "fb27d8b6-a798-4941-8541-d7a18da310c6",
   "metadata": {},
   "outputs": [],
   "source": [
    "help(rc2.spectrum.from_delta_lines)"
   ]
  },
  {
   "cell_type": "code",
   "execution_count": null,
   "id": "da7d0dad-e704-433a-992f-64fc27922c01",
   "metadata": {},
   "outputs": [],
   "source": [
    "help(spe.convolve)"
   ]
  },
  {
   "cell_type": "code",
   "execution_count": null,
   "id": "0d50df60-7bb7-4f50-8aa0-b5d414c877dc",
   "metadata": {},
   "outputs": [],
   "source": [
    "help(spe.add_baseline)"
   ]
  },
  {
   "cell_type": "code",
   "execution_count": null,
   "id": "871b9b3f-f57b-4735-84c0-2e185ee08985",
   "metadata": {},
   "outputs": [],
   "source": [
    "help(spe.add_poisson_noise)"
   ]
  },
  {
   "cell_type": "markdown",
   "id": "b84a0aa6-4b46-4393-aef8-fad1d03416ed",
   "metadata": {
    "tags": []
   },
   "source": [
    "## Interactive example"
   ]
  },
  {
   "cell_type": "code",
   "execution_count": null,
   "id": "d7a2e49b-6570-4b15-a7f6-b2e5737211c6",
   "metadata": {},
   "outputs": [],
   "source": [
    "ipyw.interact(\n",
    "    convolve,\n",
    "    lineshape=ipyw.widgets.Dropdown(options=['voigt', 'gaussian', 'lorentzian', 'pvoigt', 'moffat']),\n",
    "    sigma=ipyw.widgets.FloatSlider(min=1, max=50, value=5),\n",
    ")\n",
    "None"
   ]
  },
  {
   "cell_type": "code",
   "execution_count": null,
   "id": "94a17c0c-eb68-4d96-8930-7417e75e0e7c",
   "metadata": {},
   "outputs": [],
   "source": [
    "ipyw.interact(\n",
    "    add_baseline,\n",
    "    n_freq=ipyw.widgets.IntSlider(min=3, max=500, value=50),\n",
    "    a1=ipyw.widgets.FloatSlider(min=-.2, max=.2, value=.0, step=.00001),\n",
    "    a2=ipyw.widgets.FloatSlider(min=-.0002, max=.0002, value=.0, step=.00001,  readout_format='.5f'),\n",
    "    amplitude=ipyw.widgets.FloatSlider(min=0, max=50, value=10),\n",
    "    pedestal=ipyw.widgets.FloatSlider(min=1, max=50, value=10),\n",
    "    rng_seed=ipyw.widgets.IntSlider(min=0, max=999999, value=0)\n",
    ")\n",
    "None"
   ]
  },
  {
   "cell_type": "code",
   "execution_count": null,
   "id": "347d7a3a-07c4-47ce-ab56-7ae5cb1c17e6",
   "metadata": {},
   "outputs": [],
   "source": [
    "ipyw.interact(\n",
    "    add_noise,\n",
    "    scale=ipyw.widgets.FloatSlider(min=0, max=2, value=.01),\n",
    "    rng_seed=ipyw.widgets.IntSlider(min=0, max=999999, value=0)\n",
    ")\n",
    "None"
   ]
  },
  {
   "cell_type": "code",
   "execution_count": null,
   "id": "a741ce77-0f3a-43eb-b397-908559d8feae",
   "metadata": {},
   "outputs": [],
   "source": [
    "import ramanchada2 as rc2\n",
    "spe = rc2.spectrum.from_delta_lines(deltas={500:1e3, 700:1.5e3})\n",
    "spe = spe.convolve(lineshape='voigt', sigma=5)\n",
    "spe = spe.add_baseline(n_freq=50, amplitude=10, pedestal=10)\n",
    "spe = spe.add_poisson_noise(scale=.01)\n",
    "spe.plot()"
   ]
  },
  {
   "cell_type": "markdown",
   "id": "eaeb037c-684c-4c66-b5d1-2de9f488ab4e",
   "metadata": {},
   "source": [
    "## convolution usage"
   ]
  },
  {
   "cell_type": "code",
   "execution_count": null,
   "id": "b6ecbbe4-b084-45a8-933a-b15cf0ef0ba5",
   "metadata": {},
   "outputs": [],
   "source": [
    "spe = rc2.spectrum.from_delta_lines(deltas={500:1e3, 700:1.5e3})\n",
    "spe.convolve(lineshape='voigt', sigma=3, gamma=5).plot(label=r'voigt$(\\sigma=3, \\gamma=5)$')\n",
    "spe.convolve(lineshape=np.array([.1]*15+[.4]*15+[1]*15+[0]+[1]*25+[.4]*25+[.1]*25)/23).plot(label='user-defined array')\n",
    "spe.convolve(lineshape=lambda x, w: np.exp(-(x/w)**2)/23, w=20).plot(label='user-defined gaussian')"
   ]
  }
 ],
 "metadata": {
  "kernelspec": {
   "display_name": "ramanchada2",
   "language": "python",
   "name": "ramanchada2"
  },
  "language_info": {
   "codemirror_mode": {
    "name": "ipython",
    "version": 3
   },
   "file_extension": ".py",
   "mimetype": "text/x-python",
   "name": "python",
   "nbconvert_exporter": "python",
   "pygments_lexer": "ipython3",
   "version": "3.10.5"
  }
 },
 "nbformat": 4,
 "nbformat_minor": 5
}
