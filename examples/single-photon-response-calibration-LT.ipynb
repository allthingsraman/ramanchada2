{
 "cells": [
  {
   "cell_type": "markdown",
   "id": "8d0ce098-a120-40eb-a342-eb0f2ef1c8b9",
   "metadata": {},
   "source": [
    "# Estimate y errors of spectra in arbitrary units"
   ]
  },
  {
   "cell_type": "markdown",
   "id": "71537f15-bd87-42f6-84b6-45e17aa09e52",
   "metadata": {},
   "source": [
    "Idea by Ludmil Tsankov"
   ]
  },
  {
   "cell_type": "markdown",
   "id": "c3d4a56c-daad-4724-9b8f-a759f9875d68",
   "metadata": {
    "tags": []
   },
   "source": [
    "## Spectrum generation"
   ]
  },
  {
   "cell_type": "code",
   "execution_count": null,
   "id": "d81af4e9-992b-41d5-aa68-c3a757cd878c",
   "metadata": {},
   "outputs": [],
   "source": [
    "from ramanchada2 import spectrum\n",
    "from ramanchada2.spectral_components import GaussPeak, SpectralComponentCollection\n",
    "import scipy.stats\n",
    "import scipy.optimize\n",
    "import numpy as np\n",
    "import matplotlib.pyplot as plt"
   ]
  },
  {
   "cell_type": "code",
   "execution_count": null,
   "id": "d13c24ef-0f7a-41b7-ab87-dccc7988dbdf",
   "metadata": {},
   "outputs": [],
   "source": [
    "spe_coll = SpectralComponentCollection([\n",
    "    GaussPeak(a=50000, x0=250, w=6),\n",
    "    GaussPeak(a=7000, x0=300, w=6),\n",
    "    GaussPeak(a=7000, x0=500, w=6),\n",
    "    GaussPeak(a=30000, x0=1000, w=10),\n",
    "    GaussPeak(a=300000, x0=1050, w=40),\n",
    "    GaussPeak(a=8000000, x0=3000, w=1500),\n",
    "    GaussPeak(a=5000000, x0=1000, w=1100),\n",
    "    GaussPeak(a=8000000, x0=-2000, w=1500),\n",
    "])\n",
    "fig, ax = plt.subplots(1, figsize=(7, 4))\n",
    "spe_coll.plot(ax=ax, draw='individual lines', label='individual lines')\n",
    "spe_coll.plot(ax=ax, draw='combined line', label='combined line')\n",
    "ax.set_xlim(0, 2000)\n",
    "ax.set_title('Spectral components')\n",
    "ax.set_xlabel('$\\mathrm{Raman shift [cm^{-1}]}$')\n",
    "_ = ax.set_ylabel('$\\mathrm{Intensity [count]}$')"
   ]
  },
  {
   "cell_type": "code",
   "execution_count": null,
   "id": "d6d520c7-416e-4be7-83e2-5aea7f51440a",
   "metadata": {},
   "outputs": [],
   "source": [
    "spe_clear = spectrum.from_spectral_component_collection(x=2000, spe_components=spe_coll)\n",
    "spe_noise = spe_clear.add_poisson_noise()\n",
    "fig, ax = plt.subplots(1, figsize=(7, 4))\n",
    "spe_noise.plot(ax=ax, label='noised spectrum')\n",
    "spe_clear.plot(ax=ax, label='clear spectrum')\n",
    "ax.set_xlim(0, 2000)\n",
    "ax.set_title('Noised spectrum')\n",
    "ax.set_xlabel('Raman shift $\\mathrm{[cm^{-1}]}$')\n",
    "_ = ax.set_ylabel('Intensity [count]')"
   ]
  },
  {
   "cell_type": "code",
   "execution_count": null,
   "id": "8f8d512a-17da-4a6e-bd91-4023714ee14c",
   "metadata": {},
   "outputs": [],
   "source": [
    "spe_au = spe_noise.scale_yaxis_linear(factor=1/6000)\n",
    "fig, ax = plt.subplots(1, figsize=(7, 4))\n",
    "spe_au.plot(ax=ax)\n",
    "ax.set_title('A.U. Spectrum')\n",
    "ax.set_xlabel('Raman shift $\\mathrm{[cm^{-1}]}$')\n",
    "_ = ax.set_ylabel('Intensity [a.u.]')"
   ]
  },
  {
   "cell_type": "code",
   "execution_count": null,
   "id": "ce68d339-bfba-43c6-bf02-53cb2ef32730",
   "metadata": {},
   "outputs": [],
   "source": [
    "spe_au.y"
   ]
  },
  {
   "cell_type": "code",
   "execution_count": null,
   "id": "41b03059-5327-481e-8342-c420dbc49a83",
   "metadata": {},
   "outputs": [],
   "source": [
    "from scipy import signal, fft\n",
    "def spline(s):\n",
    "    res = np.zeros_like(s)\n",
    "    sig2 = np.zeros_like(s)\n",
    "    for i in [0, 1, -2, -1]:\n",
    "        res[i] = s[i]\n",
    "        sig2[i] = 0\n",
    "    for i in range(2, len(res)-2):\n",
    "        res[i] = 1/6*(-s[i-2] + 4*s[i-1] + 4*s[i+1] - s[i+2])\n",
    "        sig2[i] = 1/36*(-s[i-2] + 16*s[i-1] + 16*s[i+1] - s[i+2])\n",
    "    return res, sig2\n",
    "def spline_sma(s):\n",
    "    res = np.zeros_like(s)\n",
    "    sig2 = np.zeros_like(s)\n",
    "    for i in [0, 1, -2, -1]:\n",
    "        res[i] = s[i]\n",
    "        sig2[i] = 0\n",
    "    for i in range(2, len(res)-2):\n",
    "        res[i] = 1/4*(s[i-2] + s[i-1] + s[i+1] + s[i+2])\n",
    "        sig2[i] = 1/16*(s[i-2] + s[i-1] + s[i+1] + s[i+2])\n",
    "    return res, sig2\n",
    "def low_pass(s, width):\n",
    "    S = fft.rfft(s)\n",
    "    w = signal.windows.hann(width)[(width+1)//2-1:]\n",
    "    w = np.concatenate((w, np.zeros(len(S)-len(w))))\n",
    "    ss = fft.irfft(S*w)\n",
    "    #import ipdb as pdb; pdb.set_trace()\n",
    "    return ss, np.sqrt(ss)\n"
   ]
  },
  {
   "cell_type": "code",
   "execution_count": null,
   "id": "7d69cad0-7d2f-4b60-b124-24bb66c0412e",
   "metadata": {},
   "outputs": [],
   "source": [
    "ys, _ = low_pass(spe_au.y, 900)\n",
    "plt.plot(spe_au.y)\n",
    "plt.plot(ys)"
   ]
  },
  {
   "cell_type": "code",
   "execution_count": null,
   "id": "41a4b462-6b74-4204-aeb9-f692ad06d40e",
   "metadata": {},
   "outputs": [],
   "source": [
    "coef = list()\n",
    "for i in range(200):\n",
    "    spe_clear = spectrum.from_spectral_component_collection(x=2000, spe_components=spe_coll)\n",
    "    spe_noise = spe_clear.add_poisson_noise()\n",
    "    spe_au = spe_noise.scale_yaxis_linear(factor=1/6000)\n",
    "\n",
    "    spe_au_smooth_y, spe_au_smooth_sig2 = spline_sma(spe_au.y)\n",
    "\n",
    "    rr = (spe_au.y - spe_au_smooth_y)/ np.sqrt(spe_au.y+spe_au_smooth_sig2)\n",
    "    coef.append(1/np.var(rr))"
   ]
  },
  {
   "cell_type": "code",
   "execution_count": null,
   "id": "642bd47b-a903-4b3a-81af-e9df315aa3ee",
   "metadata": {},
   "outputs": [],
   "source": [
    "fig, ax = plt.subplots(1, figsize=(12,5))\n",
    "ax.hist(coef, bins=50)\n",
    "None"
   ]
  },
  {
   "cell_type": "code",
   "execution_count": null,
   "id": "b9b66749-7e4f-476a-ab30-4adea1e8c04e",
   "metadata": {},
   "outputs": [],
   "source": [
    "np.mean(coef), np.std(coef)"
   ]
  }
 ],
 "metadata": {
  "kernelspec": {
   "display_name": "ramanchada2",
   "language": "python",
   "name": "ramanchada2"
  },
  "language_info": {
   "codemirror_mode": {
    "name": "ipython",
    "version": 3
   },
   "file_extension": ".py",
   "mimetype": "text/x-python",
   "name": "python",
   "nbconvert_exporter": "python",
   "pygments_lexer": "ipython3",
   "version": "3.10.4"
  }
 },
 "nbformat": 4,
 "nbformat_minor": 5
}
