{
 "cells": [
  {
   "cell_type": "code",
   "execution_count": null,
   "id": "cd562e77-bd1b-45f6-9912-a8a3e2524458",
   "metadata": {},
   "outputs": [],
   "source": [
    "import ramanchada2 as rc2\n",
    "import numpy as np\n",
    "from scipy import signal\n",
    "import matplotlib.pyplot as plt\n",
    "\n",
    "x = np.arange(10)\n",
    "x = np.sort(np.append(x,  x+x/10))\n",
    "y = signal.windows.gaussian(len(x), std=2)\n",
    "spe0 = rc2.spectrum.Spectrum(x=x, y=y)\n",
    "spe1 = spe0.resample_NUDFT_filter(x_range=(-0.5, 20), xnew_bins=60, window=signal.windows.blackmanharris)\n",
    "\n",
    "fig, ax = plt.subplots()\n",
    "spe0.plot(ax=ax, fmt='.:')\n",
    "spe1.plot(ax=ax, fmt='.:')"
   ]
  }
 ],
 "metadata": {
  "kernelspec": {
   "display_name": "ramanchada2",
   "language": "python",
   "name": "ramanchada2"
  },
  "language_info": {
   "codemirror_mode": {
    "name": "ipython",
    "version": 3
   },
   "file_extension": ".py",
   "mimetype": "text/x-python",
   "name": "python",
   "nbconvert_exporter": "python",
   "pygments_lexer": "ipython3",
   "version": "3.9.11"
  }
 },
 "nbformat": 4,
 "nbformat_minor": 5
}
