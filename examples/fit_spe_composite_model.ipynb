{
 "cells": [
  {
   "cell_type": "code",
   "execution_count": null,
   "id": "1881e2b1-44d3-49fe-8cfd-daa600f5b0e7",
   "metadata": {},
   "outputs": [],
   "source": [
    "import ramanchada2 as rc2\n",
    "import matplotlib.pyplot as plt"
   ]
  },
  {
   "cell_type": "code",
   "execution_count": null,
   "id": "5446ea3b-5498-455a-9ad1-74a9020f0789",
   "metadata": {},
   "outputs": [],
   "source": [
    "prefix = '/data/RamanSpe/FNMT-Madrid/Horiba_785nm/PST/'\n",
    "spe = rc2.spectrum.from_local_file(prefix + 'PST10_iR785_OP01_8000msx8.txt', filetype='txt')\n",
    "spe = spe.normalize()\n",
    "spe.plot()"
   ]
  },
  {
   "cell_type": "code",
   "execution_count": null,
   "id": "58cbe255-120d-4727-b823-593c618dc66e",
   "metadata": {},
   "outputs": [],
   "source": [
    "kw_sharpening = dict(filter_fraction=1, sig_width=.4, der2_factor=0, der4_factor=.1)\n",
    "sharpened = spe.subtract_moving_minimum(60).normalize().derivative_sharpening(**kw_sharpening)\n",
    "\n",
    "fig, ax = plt.subplots(ncols=2, figsize=(12, 4))\n",
    "for a in ax:\n",
    "    spe.plot(ax=a, label='spe')\n",
    "    sharpened.plot(ax=a, label='sharpened')\n",
    "ax[0].set_xlim(900, 1300)\n",
    "ax[1].set_xlim(1500, 1700)\n",
    "ax[1].set_ylim(-.1, .5)"
   ]
  },
  {
   "cell_type": "code",
   "execution_count": null,
   "id": "4b65321e-c738-4905-8c9a-04e3c86bc1b6",
   "metadata": {},
   "outputs": [],
   "source": [
    "peak_candidates = spe.find_peak_groups(\n",
    "    prominence=.005,\n",
    "    wlen=40,\n",
    "    width=1,\n",
    "    n_sigma_group=3,\n",
    "    moving_minimum_window=40,\n",
    "    kw_derivative_sharpening=kw_sharpening\n",
    ")\n",
    "\n",
    "fig, ax = plt.subplots(ncols=2, figsize=(12, 4))\n",
    "for a in ax:\n",
    "    spe.plot(ax=a, fmt=':', label='spe')\n",
    "    sharpened.plot(ax=a, fmt=':', label='sharpened')\n",
    "    peak_candidates.plot(ax=a, label=None)\n",
    "\n",
    "\n",
    "\n",
    "ax[0].set_xlim(900, 1300)\n",
    "ax[1].set_xlim(1500, 1700)\n",
    "ax[1].set_ylim(-.1, .5)\n",
    "\n",
    "fig.suptitle('Peak candidates')"
   ]
  },
  {
   "cell_type": "code",
   "execution_count": null,
   "id": "18c6a996-7b92-412d-9890-931ad158bda2",
   "metadata": {},
   "outputs": [],
   "source": [
    "fit_res = spe.fit_peak_groups(model='Voigt', peak_candidate_groups=peak_candidates, no_fit=True)"
   ]
  },
  {
   "cell_type": "code",
   "execution_count": null,
   "id": "c25db2db-a025-47d8-8c62-a3f4f77b019b",
   "metadata": {},
   "outputs": [],
   "source": [
    "fig, ax = plt.subplots(ncols=3, nrows=2, figsize=(12, 4), sharex='col', sharey='col')\n",
    "\n",
    "spe.plot(ax=ax[0][0], fmt=':', label='spe')\n",
    "spe.plot(ax=ax[0][1], fmt=':', label='spe')\n",
    "spe.plot(ax=ax[1][0], fmt=':', label='spe')\n",
    "spe.plot(ax=ax[1][1], fmt=':', label='spe')\n",
    "\n",
    "spe.plot(ax=ax[0][2], fmt=':', label='spe')\n",
    "spe.plot(ax=ax[1][2], fmt=':', label='spe')\n",
    "\n",
    "fit_res.plot(ax=ax[0][0], label=None)\n",
    "fit_res.plot(ax=ax[0][1], label=None)\n",
    "fit_res.plot(ax=ax[0][2], label=None)\n",
    "fit_res.plot(ax=ax[1][0], label=None, individual_peaks=True)\n",
    "fit_res.plot(ax=ax[1][1], label=None, individual_peaks=True)\n",
    "fit_res.plot(ax=ax[1][2], label=None, individual_peaks=True)\n",
    "\n",
    "ax[0][0].set_xlim(900, 1300)\n",
    "ax[0][1].set_xlim(1500, 1700)\n",
    "ax[0][1].set_ylim(-.1, .4)\n",
    "fig.suptitle('Initial guess')"
   ]
  },
  {
   "cell_type": "code",
   "execution_count": null,
   "id": "7f5e4cb6-d35d-4e27-ab3c-0492ca5a77ff",
   "metadata": {},
   "outputs": [],
   "source": [
    "fit_res = spe.fit_peak_groups(model='Voigt', peak_candidate_groups=peak_candidates, no_fit=False)"
   ]
  },
  {
   "cell_type": "code",
   "execution_count": null,
   "id": "620d1e88-2042-44b4-a487-dee6b8da32aa",
   "metadata": {},
   "outputs": [],
   "source": [
    "fig, ax = plt.subplots(ncols=3, nrows=2, figsize=(12, 4), sharex='col', sharey='col')\n",
    "\n",
    "spe.plot(ax=ax[0][0], fmt=':', label='spe')\n",
    "spe.plot(ax=ax[0][1], fmt=':', label='spe')\n",
    "spe.plot(ax=ax[1][0], fmt=':', label='spe')\n",
    "spe.plot(ax=ax[1][1], fmt=':', label='spe')\n",
    "\n",
    "spe.plot(ax=ax[0][2], fmt=':', label='spe')\n",
    "spe.plot(ax=ax[1][2], fmt=':', label='spe')\n",
    "\n",
    "fit_res.plot(ax=ax[0][0], label=None)\n",
    "fit_res.plot(ax=ax[0][1], label=None)\n",
    "fit_res.plot(ax=ax[0][2], label=None)\n",
    "fit_res.plot(ax=ax[1][0], label=None, individual_peaks=True)\n",
    "fit_res.plot(ax=ax[1][1], label=None, individual_peaks=True)\n",
    "fit_res.plot(ax=ax[1][2], label=None, individual_peaks=True)\n",
    "\n",
    "ax[0][0].set_xlim(900, 1300)\n",
    "ax[0][1].set_xlim(1500, 1700)\n",
    "ax[0][1].set_ylim(-.1, .4)\n",
    "fig.suptitle('Best fit')"
   ]
  },
  {
   "cell_type": "code",
   "execution_count": null,
   "id": "a460c8e5-4761-432a-9f88-17ecb59cd874",
   "metadata": {},
   "outputs": [],
   "source": [
    "fit_res.to_csv('/tmp/fit_res.csv')"
   ]
  },
  {
   "cell_type": "code",
   "execution_count": null,
   "id": "11bacd21-dcd5-4915-95ca-893cd3a97d7d",
   "metadata": {
    "tags": []
   },
   "outputs": [],
   "source": [
    "fig, ax = plt.subplots(1, figsize=(12, 4))\n",
    "\n",
    "cand = spe.find_peaks_bayesian_gaussian(n_samples=1000, moving_minimum_window=50, n_components=50, max_iter=300, trim_range=(950, 1400))\n",
    "cand.plot(ax=ax)\n",
    "spe.plot(ax=ax, fmt='r')\n",
    "ax.set_xlim(900, 1500)"
   ]
  }
 ],
 "metadata": {
  "kernelspec": {
   "display_name": "ramanchada2",
   "language": "python",
   "name": "ramanchada2"
  },
  "language_info": {
   "codemirror_mode": {
    "name": "ipython",
    "version": 3
   },
   "file_extension": ".py",
   "mimetype": "text/x-python",
   "name": "python",
   "nbconvert_exporter": "python",
   "pygments_lexer": "ipython3",
   "version": "3.9.11"
  }
 },
 "nbformat": 4,
 "nbformat_minor": 5
}
