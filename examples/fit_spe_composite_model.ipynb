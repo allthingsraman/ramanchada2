{
 "cells": [
  {
   "cell_type": "code",
   "execution_count": null,
   "id": "1881e2b1-44d3-49fe-8cfd-daa600f5b0e7",
   "metadata": {},
   "outputs": [],
   "source": [
    "import ramanchada2 as rc2\n",
    "import matplotlib.pyplot as plt"
   ]
  },
  {
   "cell_type": "code",
   "execution_count": null,
   "id": "5446ea3b-5498-455a-9ad1-74a9020f0789",
   "metadata": {},
   "outputs": [],
   "source": [
    "prefix = '/data/RamanSpe/FNMT-Madrid/Horiba_785nm/PST/'\n",
    "spe = rc2.spectrum.from_local_file(prefix + 'PST10_iR785_OP01_8000msx8.txt', filetype='txt')\n",
    "spe = spe.normalize()\n",
    "spe.plot()"
   ]
  },
  {
   "cell_type": "code",
   "execution_count": null,
   "id": "58cbe255-120d-4727-b823-593c618dc66e",
   "metadata": {},
   "outputs": [],
   "source": [
    "kw_sharpening = dict(filter_fraction=1, sig_width=.4, der2_factor=0, der4_factor=.1)\n",
    "sharpened = spe.subtract_moving_minimum(60).normalize().derivative_sharpening(**kw_sharpening)\n",
    "\n",
    "fig, ax = plt.subplots(ncols=2, figsize=(12, 4))\n",
    "for a in ax:\n",
    "    spe.plot(ax=a, label='spe')\n",
    "    sharpened.plot(ax=a, label='sharpened')\n",
    "ax[0].set_xlim(900, 1300)\n",
    "ax[1].set_xlim(1500, 1700)\n",
    "ax[1].set_ylim(-.1, .5)"
   ]
  },
  {
   "cell_type": "code",
   "execution_count": null,
   "id": "96b06285-0663-4c1d-8b56-a22ece184c8c",
   "metadata": {},
   "outputs": [],
   "source": [
    "peak_candidates = spe.find_peak_multipeak(sharpening='hht', strategy='topo')"
   ]
  },
  {
   "cell_type": "code",
   "execution_count": null,
   "id": "3d2ebc2d-8c1d-4aae-9014-e919a96e7b6d",
   "metadata": {},
   "outputs": [],
   "source": [
    "fig, ax = plt.subplots(figsize=(30, 10))\n",
    "peak_candidates.plot(ax=ax.twinx())\n",
    "spe.plot(ax=ax)"
   ]
  },
  {
   "cell_type": "code",
   "execution_count": null,
   "id": "415f10e0-b004-49e6-bd49-01faf4dcfd52",
   "metadata": {},
   "outputs": [],
   "source": [
    "fitres = spe.fit_peak_multimodel(profile='Moffat', candidates=peak_candidates, no_fit=True)\n",
    "fig, ax = plt.subplots(figsize=(35, 10))\n",
    "fitres.plot(ax=ax, individual_peaks=False)\n",
    "spe.plot(ax=ax)\n"
   ]
  },
  {
   "cell_type": "code",
   "execution_count": null,
   "id": "03268cf5-2e46-464c-9d8b-7b42df41b0c6",
   "metadata": {},
   "outputs": [],
   "source": [
    "fitres = spe.fit_peak_multimodel(profile='Moffat', candidates=peak_candidates, no_fit=False)"
   ]
  },
  {
   "cell_type": "code",
   "execution_count": null,
   "id": "7edf697c-455b-4927-aeab-a00e4c55e063",
   "metadata": {},
   "outputs": [],
   "source": [
    "fig, ax = plt.subplots(figsize=(35, 10))\n",
    "fitres.plot(ax=ax, individual_peaks=False)\n",
    "spe.plot(ax=ax)\n"
   ]
  },
  {
   "cell_type": "code",
   "execution_count": null,
   "id": "b1c6d19a-41f8-498e-888e-a5340ddf6888",
   "metadata": {},
   "outputs": [],
   "source": [
    "fig, ax = plt.subplots(figsize=(35, 10))\n",
    "fitres.plot(ax=ax, individual_peaks=True)\n",
    "spe.plot(ax=ax)"
   ]
  },
  {
   "cell_type": "code",
   "execution_count": null,
   "id": "51ad7546-4183-44a5-980d-495d783dedf1",
   "metadata": {},
   "outputs": [],
   "source": [
    "spe_peaks = spe.find_peak_multipeak_filter(sharpening='hht', strategy='topo')"
   ]
  },
  {
   "cell_type": "code",
   "execution_count": null,
   "id": "2ece8533-23cd-4e41-b774-c5429852b4ec",
   "metadata": {},
   "outputs": [],
   "source": [
    "spe_peaks.result\n",
    "from ramanchada2.misc.types.peak_candidates import ListPeakCandidateMultiModel\n",
    "fig, ax = plt.subplots()\n",
    "ListPeakCandidateMultiModel.validate(spe_peaks.result).plot(ax)"
   ]
  },
  {
   "cell_type": "code",
   "execution_count": null,
   "id": "d33c6675-f840-487d-9219-624ee38a6ec5",
   "metadata": {},
   "outputs": [],
   "source": []
  }
 ],
 "metadata": {
  "kernelspec": {
   "display_name": "ramanchada2",
   "language": "python",
   "name": "ramanchada2"
  },
  "language_info": {
   "codemirror_mode": {
    "name": "ipython",
    "version": 3
   },
   "file_extension": ".py",
   "mimetype": "text/x-python",
   "name": "python",
   "nbconvert_exporter": "python",
   "pygments_lexer": "ipython3",
   "version": "3.9.11"
  }
 },
 "nbformat": 4,
 "nbformat_minor": 5
}
