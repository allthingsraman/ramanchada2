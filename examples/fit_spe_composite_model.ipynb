{
 "cells": [
  {
   "cell_type": "code",
   "execution_count": null,
   "id": "1881e2b1-44d3-49fe-8cfd-daa600f5b0e7",
   "metadata": {},
   "outputs": [],
   "source": [
    "import ramanchada2 as rc2\n",
    "import matplotlib.pyplot as plt"
   ]
  },
  {
   "cell_type": "code",
   "execution_count": null,
   "id": "5446ea3b-5498-455a-9ad1-74a9020f0789",
   "metadata": {},
   "outputs": [],
   "source": [
    "prefix = '/data/RamanSpe/FNMT-Madrid/Horiba_785nm/PST/'\n",
    "spe = rc2.spectrum.from_local_file(prefix + 'PST10_iR785_OP01_8000msx8.txt', filetype='txt')\n",
    "spe = spe.normalize()\n",
    "spe.plot()"
   ]
  },
  {
   "cell_type": "code",
   "execution_count": null,
   "id": "b0ac8bae-b537-4c43-9cbf-b1e1e9cea8fb",
   "metadata": {},
   "outputs": [],
   "source": [
    "peak_candidates = spe.find_peak_groups(\n",
    "    prominence=1e-2,\n",
    "    wlen=40,\n",
    "    width=1,\n",
    "    n_sigma_group=2.5,\n",
    "    moving_minimum_window=40,\n",
    "    kw_derivative_sharpening=dict(\n",
    "        filter_fraction=.6,\n",
    "        sig_width=.5,\n",
    "        der2_factor=1,\n",
    "        der4_factor=.1\n",
    "    ))\n",
    "fig, ax = plt.subplots(1)\n",
    "\n",
    "spe.normalize().plot(ax=ax)\n",
    "peak_candidates.plot(ax=ax)\n",
    "ax.set_xlim(900, 1500)"
   ]
  },
  {
   "cell_type": "code",
   "execution_count": null,
   "id": "7f5e4cb6-d35d-4e27-ab3c-0492ca5a77ff",
   "metadata": {},
   "outputs": [],
   "source": [
    "fit_res = spe.fit_peak_groups(model='Voigt', peak_candidate_groups=peak_candidates)"
   ]
  },
  {
   "cell_type": "code",
   "execution_count": null,
   "id": "04146c5d-9bc4-4994-9ee8-e92a24e4e3bc",
   "metadata": {},
   "outputs": [],
   "source": [
    "fig, ax = plt.subplots(1)\n",
    "x = spe.x\n",
    "for i in fit_res:\n",
    "    i.plot()"
   ]
  },
  {
   "cell_type": "code",
   "execution_count": null,
   "id": "18a08e08-8fae-4d9e-af98-1116c3871eb1",
   "metadata": {},
   "outputs": [],
   "source": []
  }
 ],
 "metadata": {
  "kernelspec": {
   "display_name": "ramanchada2",
   "language": "python",
   "name": "ramanchada2"
  },
  "language_info": {
   "codemirror_mode": {
    "name": "ipython",
    "version": 3
   },
   "file_extension": ".py",
   "mimetype": "text/x-python",
   "name": "python",
   "nbconvert_exporter": "python",
   "pygments_lexer": "ipython3",
   "version": "3.10.5"
  }
 },
 "nbformat": 4,
 "nbformat_minor": 5
}
