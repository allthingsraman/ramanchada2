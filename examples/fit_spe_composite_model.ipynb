{
 "cells": [
  {
   "cell_type": "code",
   "execution_count": null,
   "id": "1881e2b1-44d3-49fe-8cfd-daa600f5b0e7",
   "metadata": {},
   "outputs": [],
   "source": [
    "import ramanchada2 as rc2\n",
    "import matplotlib.pyplot as plt"
   ]
  },
  {
   "cell_type": "code",
   "execution_count": null,
   "id": "5446ea3b-5498-455a-9ad1-74a9020f0789",
   "metadata": {},
   "outputs": [],
   "source": [
    "prefix = '/data/RamanSpe/FNMT-Madrid/Horiba_785nm/PST/'\n",
    "spe = rc2.spectrum.from_local_file(prefix + 'PST10_iR785_OP01_8000msx8.txt', filetype='txt')\n",
    "spe = spe.normalize()\n",
    "spe.plot()"
   ]
  },
  {
   "cell_type": "code",
   "execution_count": null,
   "id": "58cbe255-120d-4727-b823-593c618dc66e",
   "metadata": {},
   "outputs": [],
   "source": [
    "kw_sharpening = dict(filter_fraction=1, sig_width=.4, der2_factor=0, der4_factor=.1)\n",
    "#kw_sharpening = dict(filter_fraction=.6, sig_width=.5, der2_factor=1, der4_factor=.1)\n",
    "sharpened = spe.subtract_moving_minimum(60).normalize().derivative_sharpening(**kw_sharpening)\n",
    "\n",
    "fig, ax = plt.subplots(ncols=2, figsize=(12, 4))\n",
    "for a in ax:\n",
    "    spe.plot(ax=a, label='spe')\n",
    "    sharpened.plot(ax=a, label='sharpened')\n",
    "ax[0].set_xlim(900, 1300)\n",
    "ax[1].set_xlim(1500, 1700)\n",
    "ax[1].set_ylim(-.1, .5)"
   ]
  },
  {
   "cell_type": "code",
   "execution_count": null,
   "id": "4b65321e-c738-4905-8c9a-04e3c86bc1b6",
   "metadata": {},
   "outputs": [],
   "source": [
    "peak_candidates = spe.find_peak_groups(\n",
    "    prominence=.005,\n",
    "    wlen=40,\n",
    "    width=1,\n",
    "    n_sigma_group=1.5,\n",
    "    moving_minimum_window=40,\n",
    "    kw_derivative_sharpening=kw_sharpening)\n",
    "\n",
    "fig, ax = plt.subplots(ncols=2, figsize=(12, 4))\n",
    "for a in ax:\n",
    "    spe.plot(ax=a, fmt=':', label='spe')\n",
    "    sharpened.plot(ax=a, fmt=':', label='sharpened')\n",
    "    peak_candidates.plot(ax=a, label=None)\n",
    "\n",
    "\n",
    "\n",
    "ax[0].set_xlim(900, 1300)\n",
    "ax[1].set_xlim(1500, 1700)\n",
    "ax[1].set_ylim(-.1, .5)\n"
   ]
  },
  {
   "cell_type": "code",
   "execution_count": null,
   "id": "7f5e4cb6-d35d-4e27-ab3c-0492ca5a77ff",
   "metadata": {},
   "outputs": [],
   "source": [
    "fit_res = spe.fit_peak_groups(model='Voigt', peak_candidate_groups=peak_candidates)"
   ]
  },
  {
   "cell_type": "code",
   "execution_count": null,
   "id": "18a08e08-8fae-4d9e-af98-1116c3871eb1",
   "metadata": {},
   "outputs": [],
   "source": [
    "fig, ax = plt.subplots(ncols=2, figsize=(12, 4))\n",
    "for a in ax:\n",
    "    spe.plot(ax=a, fmt=':', label='spe')\n",
    "    fit_res.plot(ax=a, label=None)\n",
    "    #fit_res.plot(ax=a, label=None, individual_peaks=True)\n",
    "\n",
    "ax[0].set_xlim(900, 1300)\n",
    "ax[1].set_xlim(1500, 1700)\n",
    "ax[1].set_ylim(-.1, .4)"
   ]
  },
  {
   "cell_type": "code",
   "execution_count": null,
   "id": "04146c5d-9bc4-4994-9ee8-e92a24e4e3bc",
   "metadata": {},
   "outputs": [],
   "source": [
    "\n",
    "fig, ax = plt.subplots(ncols=2, figsize=(12, 4))\n",
    "for a in ax:\n",
    "    spe.plot(ax=a, fmt=':', label='spe')\n",
    "    #fit_res.plot(ax=a, label=None)\n",
    "    fit_res.plot(ax=a, label=None, individual_peaks=True)\n",
    "\n",
    "ax[0].set_xlim(900, 1300)\n",
    "ax[1].set_xlim(1500, 1700)\n",
    "ax[1].set_ylim(-.1, .4)"
   ]
  },
  {
   "cell_type": "code",
   "execution_count": null,
   "id": "a460c8e5-4761-432a-9f88-17ecb59cd874",
   "metadata": {},
   "outputs": [],
   "source": [
    "fit_res.to_csv('/tmp/fit_res.csv')"
   ]
  },
  {
   "cell_type": "code",
   "execution_count": null,
   "id": "11bacd21-dcd5-4915-95ca-893cd3a97d7d",
   "metadata": {},
   "outputs": [],
   "source": []
  }
 ],
 "metadata": {
  "kernelspec": {
   "display_name": "ramanchada2",
   "language": "python",
   "name": "ramanchada2"
  },
  "language_info": {
   "codemirror_mode": {
    "name": "ipython",
    "version": 3
   },
   "file_extension": ".py",
   "mimetype": "text/x-python",
   "name": "python",
   "nbconvert_exporter": "python",
   "pygments_lexer": "ipython3",
   "version": "3.10.5"
  }
 },
 "nbformat": 4,
 "nbformat_minor": 5
}
