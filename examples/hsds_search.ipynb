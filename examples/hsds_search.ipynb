{
 "cells": [
  {
   "cell_type": "code",
   "execution_count": null,
   "metadata": {},
   "outputs": [],
   "source": [
    "from ramanchada2.io.HSDS import visit_domain, filter_dataset, read_cha\n",
    "import h5pyd\n",
    "import numpy as np\n",
    "from scipy.interpolate import interp1d\n",
    "import matplotlib.pyplot as plt"
   ]
  },
  {
   "cell_type": "code",
   "execution_count": null,
   "metadata": {},
   "outputs": [],
   "source": [
    "from ramanchada2.spectrum import from_chada\n",
    "import math\n",
    "\n",
    "\n",
    "def load_dataset(parentdomain,domain,results={}):\n",
    "    with h5pyd.File(domain) as f:\n",
    "        wavelength = f[\"annotation_study\"].attrs[\"wavelength\"]\n",
    "    spe = from_chada(domain,h5module=h5pyd)\n",
    "    spe = spe - spe.moving_minimum(16)\n",
    "    spe = spe.normalize()\n",
    "    f = interp1d(spe.x, spe.y)\n",
    "    x_min = min(spe.x)\n",
    "    x_min = math.ceil(x_min) if x_min >= 0 else 0\n",
    "    x_max = math.floor(max(spe.x))\n",
    "    print(domain,len(spe.x),x_min,x_max)\n",
    "    xnew = np.arange(x_min,x_max,1)\n",
    "    ynew = f(xnew)\n",
    "\n",
    "    results[domain] = (xnew,ynew,wavelength)\n",
    "\n",
    "query_sample = \"S1N\"\n",
    "\n",
    "#visit_domain(topdomain=\"/Round_Robin_1/\",process_dataset=print_dataset) \n",
    "results = {}\n",
    "visit_domain(\"/Round_Robin_1/\",\n",
    "        process_dataset=filter_dataset,kwargs={\"process_file\" : load_dataset,\"sample\": query_sample, \n",
    "                            \"kwargs\" : {\"results\" : results}})"
   ]
  },
  {
   "cell_type": "code",
   "execution_count": null,
   "metadata": {},
   "outputs": [],
   "source": [
    "\n",
    "def ramanshift2wavelength(shift,laser):\n",
    "    return 1/((1/laser)-shift/10**7)\n",
    "\n",
    "domain_len = 2048\n",
    "xnew0 = np.arange(0,domain_len,1)\n",
    "xnew1 = np.arange(0,domain_len,1)\n",
    "xnew1 = xnew1 + domain_len\n",
    "for domain in results:\n",
    "    x,y,wavelength = results[domain]\n",
    "    wavelength = int(wavelength)\n",
    "    index0 = np.zeros(domain_len)\n",
    "    index1 = np.zeros(domain_len)\n",
    "    xmin = min(x)\n",
    "    xmax = max(x)\n",
    "    #print(wavelength,min(x),max(x))\n",
    "    xmax = xmax if xmax <=domain_len else domain_len\n",
    "    xlen = len(x) if len(x) <= domain_len else domain_len\n",
    "    index0[xmin:xmax] = y[0:(xmax-xmin)]\n",
    "    #print(xmin,xmax,xmax-xmin)\n",
    "    index0[0:16] = 0\n",
    "    if len(x)>(xmax-xmin):\n",
    "        #xmax = xmax if xmax <= (2*domain_len) else 2*domain_len\n",
    "        #print(xmax-xmin,\"more to come\",min(x),max(x))\n",
    "        #index1[xmax:] = y[(xmax-xmin):]\n",
    "        pass\n",
    "    f, (ax1, ax2) = plt.subplots(1, 2, sharey=True)\n",
    "    ax1.plot(ramanshift2wavelength(x,wavelength),y, 'o',label=domain)\n",
    "    ax1.plot(ramanshift2wavelength(xnew0,wavelength),index0, '-', label=domain)\n",
    "    ax1.set_xlabel(\"wavelength, nm\")\n",
    "    ax2.plot(x,y, 'o',label=domain)\n",
    "    ax2.plot(xnew0,index0, '-', label=domain)    \n",
    "    ax2.set_xlabel(\"Raman shift, cm-1\")\n",
    "    \n",
    "    #plt.plot(xnew1,index1, 'x')\n",
    "    plt.suptitle(domain)\n",
    "    plt.show()"
   ]
  }
 ],
 "metadata": {
  "kernelspec": {
   "display_name": "Python 3.9.13 ('charisma')",
   "language": "python",
   "name": "python3"
  },
  "language_info": {
   "codemirror_mode": {
    "name": "ipython",
    "version": 3
   },
   "file_extension": ".py",
   "mimetype": "text/x-python",
   "name": "python",
   "nbconvert_exporter": "python",
   "pygments_lexer": "ipython3",
   "version": "3.9.13"
  },
  "orig_nbformat": 4,
  "vscode": {
   "interpreter": {
    "hash": "fb04d3982f35e0acdef77e55e8b663fd61d1c7b237bd8280d18cbffb390c1e7d"
   }
  }
 },
 "nbformat": 4,
 "nbformat_minor": 2
}
